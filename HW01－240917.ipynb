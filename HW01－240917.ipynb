{
  "nbformat": 4,
  "nbformat_minor": 0,
  "metadata": {
    "colab": {
      "provenance": [],
      "authorship_tag": "ABX9TyMTC8RHh4epq7fbaCEq1oyz",
      "include_colab_link": true
    },
    "kernelspec": {
      "name": "python3",
      "display_name": "Python 3"
    },
    "language_info": {
      "name": "python"
    }
  },
  "cells": [
    {
      "cell_type": "markdown",
      "metadata": {
        "id": "view-in-github",
        "colab_type": "text"
      },
      "source": [
        "<a href=\"https://colab.research.google.com/github/Carl-Zzdr/MLstudy/blob/main/HW01%EF%BC%8D240917.ipynb\" target=\"_parent\"><img src=\"https://colab.research.google.com/assets/colab-badge.svg\" alt=\"Open In Colab\"/></a>"
      ]
    },
    {
      "cell_type": "code",
      "execution_count": 2,
      "metadata": {
        "colab": {
          "base_uri": "https://localhost:8080/"
        },
        "id": "qgAJqCFYyuoi",
        "outputId": "591e1371-aaeb-404a-a7c4-73278652ab25"
      },
      "outputs": [
        {
          "output_type": "stream",
          "name": "stdout",
          "text": [
            "θ0（截距）: 62005.065428446505\n",
            "θ1（工资的系数）: 14.69818488813802\n",
            "θ2（年龄的系数）: -3759.6735612774646\n"
          ]
        }
      ],
      "source": [
        "import numpy as np\n",
        "\n",
        "# 定义数据集\n",
        "X = np.array([[4000, 25], [8000, 30], [5000, 28], [7500, 33], [12000, 40]])  # 工资和年龄\n",
        "y = np.array([20000, 70000, 35000, 50000, 85000])  # 贷款额度\n",
        "\n",
        "# 增加截距项\n",
        "X_b = np.c_[np.ones((X.shape[0], 1)), X]  # 在X矩阵左侧增加一列1，表示截距项\n",
        "\n",
        "# 正规方程法求解 theta\n",
        "theta_best = np.linalg.inv(X_b.T.dot(X_b)).dot(X_b.T).dot(y)\n",
        "\n",
        "print(f\"θ0（截距）: {theta_best[0]}\")\n",
        "print(f\"θ1（工资的系数）: {theta_best[1]}\")\n",
        "print(f\"θ2（年龄的系数）: {theta_best[2]}\")\n"
      ]
    }
  ]
}