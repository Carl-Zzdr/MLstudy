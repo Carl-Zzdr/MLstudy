{
  "nbformat": 4,
  "nbformat_minor": 0,
  "metadata": {
    "colab": {
      "provenance": [],
      "authorship_tag": "ABX9TyMXzC4VMnBC5xyuCJgpEXhi",
      "include_colab_link": true
    },
    "kernelspec": {
      "name": "python3",
      "display_name": "Python 3"
    },
    "language_info": {
      "name": "python"
    }
  },
  "cells": [
    {
      "cell_type": "markdown",
      "metadata": {
        "id": "view-in-github",
        "colab_type": "text"
      },
      "source": [
        "<a href=\"https://colab.research.google.com/github/Carl-Zzdr/MLstudy/blob/main/HW2%EF%BC%8D240922.ipynb\" target=\"_parent\"><img src=\"https://colab.research.google.com/assets/colab-badge.svg\" alt=\"Open In Colab\"/></a>"
      ]
    },
    {
      "cell_type": "code",
      "source": [
        "import numpy as np"
      ],
      "metadata": {
        "id": "FPZADUQB8X-t"
      },
      "execution_count": 1,
      "outputs": []
    },
    {
      "cell_type": "code",
      "execution_count": 2,
      "metadata": {
        "id": "8yfbi2Dj7pRH"
      },
      "outputs": [],
      "source": [
        "# 输入数据，分别为工资、年龄、贷款额度\n",
        "X = np.array([\n",
        "    [4000, 25],\n",
        "    [8000, 30],\n",
        "    [5000, 28],\n",
        "    [7500, 33],\n",
        "    [12000, 40]\n",
        "])\n",
        "\n",
        "y = np.array([20000, 70000, 35000, 50000, 85000])"
      ]
    },
    {
      "cell_type": "code",
      "source": [
        "# 标准化特征\n",
        "X_mean = np.mean(X, axis=0)\n",
        "X_std = np.std(X, axis=0)\n",
        "X_normalized = (X - X_mean) / X_std"
      ],
      "metadata": {
        "id": "4Bk31paM71vK"
      },
      "execution_count": 3,
      "outputs": []
    },
    {
      "cell_type": "code",
      "source": [
        "# 增加偏置项（即 θ_0）\n",
        "X_normalized = np.c_[np.ones(X_normalized.shape[0]), X_normalized]"
      ],
      "metadata": {
        "id": "LPU3r20575Os"
      },
      "execution_count": 4,
      "outputs": []
    },
    {
      "cell_type": "code",
      "source": [
        "# 初始化参数 θ（含 θ_0, θ_1, θ_2）\n",
        "theta = np.zeros(X_normalized.shape[1])"
      ],
      "metadata": {
        "id": "o4YiWS__8AJa"
      },
      "execution_count": 5,
      "outputs": []
    },
    {
      "cell_type": "code",
      "source": [
        "# 学习率和迭代次数\n",
        "alpha = 0.01\n",
        "iterations = 10000"
      ],
      "metadata": {
        "id": "tK1aHeDq8Dsv"
      },
      "execution_count": 6,
      "outputs": []
    },
    {
      "cell_type": "code",
      "source": [
        "# 定义损失函数（均方误差）\n",
        "def compute_cost(X, y, theta):\n",
        "    m = len(y)\n",
        "    predictions = X.dot(theta)\n",
        "    error = predictions - y\n",
        "    return (1 / (2 * m)) * np.dot(error.T, error)"
      ],
      "metadata": {
        "id": "QZzRxu9-8I3L"
      },
      "execution_count": 7,
      "outputs": []
    },
    {
      "cell_type": "code",
      "source": [
        "# 梯度下降算法\n",
        "def gradient_descent(X, y, theta, alpha, iterations):\n",
        "    m = len(y)\n",
        "    cost_history = np.zeros(iterations)\n",
        "\n",
        "    for i in range(iterations):\n",
        "        predictions = X.dot(theta)\n",
        "        theta = theta - (alpha / m) * X.T.dot(predictions - y)\n",
        "        cost_history[i] = compute_cost(X, y, theta)\n",
        "\n",
        "    return theta, cost_history"
      ],
      "metadata": {
        "id": "5yANhTdS8NV_"
      },
      "execution_count": 8,
      "outputs": []
    },
    {
      "cell_type": "code",
      "source": [
        "# 执行梯度下降\n",
        "theta, cost_history = gradient_descent(X_normalized, y, theta, alpha, iterations)\n",
        "\n",
        "print(f\"最终的参数: {theta}\")"
      ],
      "metadata": {
        "id": "YKb7_Xmg8pdA",
        "outputId": "2b8c07be-76e0-43b8-d07c-c7f6ea62feb9",
        "colab": {
          "base_uri": "https://localhost:8080/"
        }
      },
      "execution_count": 9,
      "outputs": [
        {
          "output_type": "stream",
          "name": "stdout",
          "text": [
            "最终的参数: [ 52000.          40093.13739213 -18378.27716884]\n"
          ]
        }
      ]
    }
  ]
}